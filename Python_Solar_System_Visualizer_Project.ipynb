{
  "nbformat": 4,
  "nbformat_minor": 0,
  "metadata": {
    "colab": {
      "provenance": [],
      "authorship_tag": "ABX9TyO4q5LtwMm/QxTYgP6m7W/V",
      "include_colab_link": true
    },
    "kernelspec": {
      "name": "python3",
      "display_name": "Python 3"
    },
    "language_info": {
      "name": "python"
    }
  },
  "cells": [
    {
      "cell_type": "markdown",
      "metadata": {
        "id": "view-in-github",
        "colab_type": "text"
      },
      "source": [
        "<a href=\"https://colab.research.google.com/github/RICHARDKHRISTI/-Solar-System-Visualizer-using-Python-Pygame/blob/main/Python_Solar_System_Visualizer_Project.ipynb\" target=\"_parent\"><img src=\"https://colab.research.google.com/assets/colab-badge.svg\" alt=\"Open In Colab\"/></a>"
      ]
    },
    {
      "cell_type": "code",
      "execution_count": null,
      "metadata": {
        "colab": {
          "base_uri": "https://localhost:8080/",
          "height": 263
        },
        "id": "S75HkkyXcptQ",
        "outputId": "5cacbb6b-ddb2-467d-de97-3ae51083e203"
      },
      "outputs": [
        {
          "output_type": "stream",
          "name": "stdout",
          "text": [
            "pygame 2.6.1 (SDL 2.28.4, Python 3.11.13)\n",
            "Hello from the pygame community. https://www.pygame.org/contribute.html\n"
          ]
        },
        {
          "output_type": "error",
          "ename": "FileNotFoundError",
          "evalue": "No file 'planets/sun.png' found in working directory '/content'.",
          "traceback": [
            "\u001b[0;31m---------------------------------------------------------------------------\u001b[0m",
            "\u001b[0;31mFileNotFoundError\u001b[0m                         Traceback (most recent call last)",
            "\u001b[0;32m/tmp/ipython-input-1-165721320.py\u001b[0m in \u001b[0;36m<cell line: 0>\u001b[0;34m()\u001b[0m\n\u001b[1;32m     15\u001b[0m \u001b[0;34m\u001b[0m\u001b[0m\n\u001b[1;32m     16\u001b[0m \u001b[0;31m# Load the images for each planet\u001b[0m\u001b[0;34m\u001b[0m\u001b[0;34m\u001b[0m\u001b[0m\n\u001b[0;32m---> 17\u001b[0;31m \u001b[0msun_image\u001b[0m \u001b[0;34m=\u001b[0m \u001b[0mpygame\u001b[0m\u001b[0;34m.\u001b[0m\u001b[0mimage\u001b[0m\u001b[0;34m.\u001b[0m\u001b[0mload\u001b[0m\u001b[0;34m(\u001b[0m\u001b[0mos\u001b[0m\u001b[0;34m.\u001b[0m\u001b[0mpath\u001b[0m\u001b[0;34m.\u001b[0m\u001b[0mjoin\u001b[0m\u001b[0;34m(\u001b[0m\u001b[0;34m\"planets\"\u001b[0m\u001b[0;34m,\u001b[0m \u001b[0;34m\"sun.png\"\u001b[0m\u001b[0;34m)\u001b[0m\u001b[0;34m)\u001b[0m\u001b[0;34m\u001b[0m\u001b[0;34m\u001b[0m\u001b[0m\n\u001b[0m\u001b[1;32m     18\u001b[0m \u001b[0mmercury_image\u001b[0m \u001b[0;34m=\u001b[0m \u001b[0mpygame\u001b[0m\u001b[0;34m.\u001b[0m\u001b[0mimage\u001b[0m\u001b[0;34m.\u001b[0m\u001b[0mload\u001b[0m\u001b[0;34m(\u001b[0m\u001b[0mos\u001b[0m\u001b[0;34m.\u001b[0m\u001b[0mpath\u001b[0m\u001b[0;34m.\u001b[0m\u001b[0mjoin\u001b[0m\u001b[0;34m(\u001b[0m\u001b[0;34m\"planets\"\u001b[0m\u001b[0;34m,\u001b[0m \u001b[0;34m\"mercury.png\"\u001b[0m\u001b[0;34m)\u001b[0m\u001b[0;34m)\u001b[0m\u001b[0;34m\u001b[0m\u001b[0;34m\u001b[0m\u001b[0m\n\u001b[1;32m     19\u001b[0m \u001b[0mvenus_image\u001b[0m \u001b[0;34m=\u001b[0m \u001b[0mpygame\u001b[0m\u001b[0;34m.\u001b[0m\u001b[0mimage\u001b[0m\u001b[0;34m.\u001b[0m\u001b[0mload\u001b[0m\u001b[0;34m(\u001b[0m\u001b[0mos\u001b[0m\u001b[0;34m.\u001b[0m\u001b[0mpath\u001b[0m\u001b[0;34m.\u001b[0m\u001b[0mjoin\u001b[0m\u001b[0;34m(\u001b[0m\u001b[0;34m\"planets\"\u001b[0m\u001b[0;34m,\u001b[0m \u001b[0;34m\"venus.png\"\u001b[0m\u001b[0;34m)\u001b[0m\u001b[0;34m)\u001b[0m\u001b[0;34m\u001b[0m\u001b[0;34m\u001b[0m\u001b[0m\n",
            "\u001b[0;31mFileNotFoundError\u001b[0m: No file 'planets/sun.png' found in working directory '/content'."
          ]
        }
      ],
      "source": [
        "\n",
        "# Import the pygame library\n",
        "import pygame\n",
        "import math\n",
        "import os\n",
        "\n",
        "# Initialize Pygame\n",
        "pygame.init()\n",
        "\n",
        "# Set the window size\n",
        "size = (800, 800)\n",
        "screen = pygame.display.set_mode(size)\n",
        "\n",
        "# Set the title of the window\n",
        "pygame.display.set_caption(\"DataFlair - Solar System Visualizer\")\n",
        "\n",
        "# Load the images for each planet\n",
        "sun_image = pygame.image.load(os.path.join(\"planets\", \"sun.png\"))\n",
        "mercury_image = pygame.image.load(os.path.join(\"planets\", \"mercury.png\"))\n",
        "venus_image = pygame.image.load(os.path.join(\"planets\", \"venus.png\"))\n",
        "earth_image = pygame.image.load(os.path.join(\"planets\", \"earth.png\"))\n",
        "mars_image = pygame.image.load(os.path.join(\"planets\", \"mars.png\"))\n",
        "jupiter_image = pygame.image.load(os.path.join(\"planets\", \"jupiter.png\"))\n",
        "saturn_image = pygame.image.load(os.path.join(\"planets\", \"saturn_ring.png\"))\n",
        "uranus_image = pygame.image.load(os.path.join(\"planets\", \"uranus.png\"))\n",
        "neptune_image = pygame.image.load(os.path.join(\"planets\", \"neptune.png\"))\n",
        "\n",
        "# Load the background image\n",
        "background_image = pygame.image.load(os.path.join(\"planets\", \"space.png\"))\n",
        "\n",
        "# Reducing image size of the planets\n",
        "sun_image = pygame.transform.scale(sun_image, (80, 80))\n",
        "mercury_image = pygame.transform.scale(mercury_image, (15, 15))\n",
        "venus_image = pygame.transform.scale(venus_image, (25, 25))\n",
        "earth_image = pygame.transform.scale(earth_image, (30, 30))\n",
        "mars_image = pygame.transform.scale(mars_image, (20, 20))\n",
        "saturn_image = pygame.transform.scale(saturn_image, (100, 40))\n",
        "uranus_image = pygame.transform.scale(uranus_image, (35, 35))\n",
        "jupiter_image = pygame.transform.scale(jupiter_image, (50, 50))\n",
        "neptune_image = pygame.transform.scale(neptune_image, (40, 40))\n",
        "\n",
        "# Create a list of planets with their properties\n",
        "planets = [\n",
        "    {\"name\": \"Sun\", \"image\": sun_image, \"radius\": 200, \"x\": 400, \"y\": 390, \"vx\": 0, \"vy\": 0},\n",
        "    {\"name\": \"Mercury\", \"image\": mercury_image, \"angle\": 0, \"distance\": 65, \"period\": 0.24, \"radius\": 10},\n",
        "    {\"name\": \"Venus\", \"image\": venus_image, \"angle\": 0, \"distance\": 90, \"period\": 0.62, \"radius\": 20},\n",
        "    {\"name\": \"Earth\", \"image\": earth_image, \"angle\": 0, \"distance\": 125, \"period\": 1, \"radius\": 25},\n",
        "    {\"name\": \"Mars\", \"image\": mars_image, \"angle\": 0, \"distance\": 155, \"period\": 1.88, \"radius\": 15},\n",
        "    {\"name\": \"Jupiter\", \"image\": jupiter_image, \"angle\": 0, \"distance\": 195, \"period\": 11.86, \"radius\": 45},\n",
        "    {\"name\": \"Saturn\", \"image\": saturn_image, \"angle\": 0, \"distance\": 260, \"period\": 29.5, \"radius\": 40},\n",
        "    {\"name\": \"Uranus\", \"image\": uranus_image, \"angle\": 0, \"distance\": 320, \"period\": 84, \"radius\": 30},\n",
        "    {\"name\": \"Neptune\", \"image\": neptune_image, \"angle\": 0, \"distance\": 370, \"period\": 164.8, \"radius\": 35}\n",
        "]\n",
        "\n",
        "# initialize the positions of the planets\n",
        "for planet in planets[1:]:\n",
        "    planet[\"x\"] = planets[0][\"x\"] + math.cos(planet[\"angle\"]) * planet[\"distance\"]\n",
        "    planet[\"y\"] = planets[0][\"y\"] + math.sin(planet[\"angle\"]) * planet[\"distance\"]\n",
        "\n",
        "# Create a list of past positions for each planet\n",
        "for planet in planets[1:]:\n",
        "    planet[\"past_positions\"] = []\n",
        "\n",
        "# Set the clock to control framerate\n",
        "clock = pygame.time.Clock()\n",
        "fps = 30\n",
        "\n",
        "# Run the game loop\n",
        "running = True\n",
        "while running:\n",
        "\n",
        "    # Handle events in the game loop\n",
        "    for event in pygame.event.get():\n",
        "\n",
        "        # Check for QUIT event\n",
        "        if event.type == pygame.QUIT:\n",
        "            running = False\n",
        "\n",
        "    # Clear the screen with background image\n",
        "    screen.blit(background_image, (0, 0))\n",
        "\n",
        "\n",
        "    # Display the sun at the center\n",
        "    image_rect = planets[0][\"image\"].get_rect()\n",
        "    image_rect.center = (int(planets[0][\"x\"]), int(planets[0][\"y\"]))\n",
        "    screen.blit(planets[0][\"image\"], image_rect)\n",
        "\n",
        "    # Draw and update the position of the planets\n",
        "    for planet in planets[1:]:\n",
        "\n",
        "        # Increment the angle based on the period of the planet\n",
        "        # so that it completes one orbit in the given period\n",
        "        planet[\"angle\"] += 0.05 * (1 / planet[\"period\"])\n",
        "\n",
        "        # Calculate the position of the planet based on the angle\n",
        "        planet[\"x\"] = planets[0][\"x\"] + math.cos(planet[\"angle\"]) * planet[\"distance\"]\n",
        "        planet[\"y\"] = planets[0][\"y\"] + math.sin(planet[\"angle\"]) * planet[\"distance\"]\n",
        "\n",
        "        # Add the current position to the list of past positions\n",
        "        # and draw a trail behind the planet\n",
        "        planet[\"past_positions\"].append((planet[\"x\"], planet[\"y\"]))\n",
        "\n",
        "        # Draw the trail\n",
        "        for i in range(1, len(planet[\"past_positions\"])):\n",
        "            pygame.draw.line(screen, (153,153,0), planet[\"past_positions\"][i-1], planet[\"past_positions\"][i], 1)\n",
        "\n",
        "        # Get the rect for the planet's image and set its center to the planet's position\n",
        "        image_rect = planet[\"image\"].get_rect()\n",
        "        image_rect.center = (int(planet[\"x\"]), int(planet[\"y\"]))\n",
        "\n",
        "        # Draw the planet's image\n",
        "        screen.blit(planet[\"image\"], image_rect)\n",
        "\n",
        "    # Update the display\n",
        "    pygame.display.update()\n",
        "\n",
        "    # Wait for the specified number of frames per second\n",
        "    clock.tick(fps)\n",
        "\n",
        "# Quit pygame\n",
        "pygame.quit()"
      ]
    }
  ]
}